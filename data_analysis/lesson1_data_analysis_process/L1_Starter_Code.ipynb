{
 "cells": [
  {
   "cell_type": "markdown",
   "metadata": {},
   "source": [
    "Before we get started, a couple of reminders to keep in mind when using iPython notebooks:\n",
    "\n",
    "- Remember that you can see from the left side of a code cell when it was last run if there is a number within the brackets.\n",
    "- When you start a new notebook session, make sure you run all of the cells up to the point where you last left off. Even if the output is still visible from when you ran the cells in your previous session, the kernel starts in a fresh state so you'll need to reload the data, etc. on a new session.\n",
    "- The previous point is useful to keep in mind if your answers do not match what is expected in the lesson's quizzes. Try reloading the data and run all of the processing steps one by one in order to make sure that you are working with the same variables and data that are at each quiz stage.\n",
    "\n",
    "\n",
    "## Load Data from CSVs"
   ]
  },
  {
   "cell_type": "code",
   "execution_count": 22,
   "metadata": {
    "collapsed": false
   },
   "outputs": [
    {
     "data": {
      "text/plain": [
       "{u'account_key': u'448',\n",
       " u'cancel_date': u'2015-01-14',\n",
       " u'days_to_cancel': u'65',\n",
       " u'is_canceled': u'True',\n",
       " u'is_udacity': u'True',\n",
       " u'join_date': u'2014-11-10',\n",
       " u'status': u'canceled'}"
      ]
     },
     "execution_count": 22,
     "metadata": {},
     "output_type": "execute_result"
    }
   ],
   "source": [
    "import unicodecsv\n",
    "\n",
    "## Longer version of code (replaced with shorter, equivalent version below)\n",
    "\n",
    "# enrollments = []\n",
    "# f = open('enrollments.csv', 'rb')\n",
    "# reader = unicodecsv.DictReader(f)\n",
    "# for row in reader:\n",
    "#     enrollments.append(row)\n",
    "# f.close()\n",
    "\n",
    "with open('enrollments.csv', 'rb') as f:\n",
    "    reader = unicodecsv.DictReader(f)\n",
    "    enrollments = list(reader)\n",
    "\n",
    "enrollments[0]"
   ]
  },
  {
   "cell_type": "code",
   "execution_count": 23,
   "metadata": {
    "collapsed": false
   },
   "outputs": [
    {
     "name": "stdout",
     "output_type": "stream",
     "text": [
      "{u'lessons_completed': u'0.0', u'num_courses_visited': u'1.0', u'total_minutes_visited': u'11.6793745', u'projects_completed': u'0.0', 'account_key': u'0', u'utc_date': u'2015-01-09'}\n",
      "{u'lesson_key': u'3176718735', u'processing_state': u'EVALUATED', u'account_key': u'256', u'assigned_rating': u'UNGRADED', u'completion_date': u'2015-01-16', u'creation_date': u'2015-01-14'}\n"
     ]
    }
   ],
   "source": [
    "#####################################\n",
    "#                 1                 #\n",
    "#####################################\n",
    "\n",
    "## Read in the data from daily_engagement.csv and project_submissions.csv \n",
    "## and store the results in the below variables.\n",
    "## Then look at the first row of each table.\n",
    "with open('daily_engagement.csv', 'rb') as f:\n",
    "    reader = unicodecsv.DictReader(f)\n",
    "    daily_engagement = list(reader)\n",
    "\n",
    "for row in daily_engagement:\n",
    "    row['account_key'] = row['acct']\n",
    "    del row['acct']\n",
    "print daily_engagement[0]\n",
    "\n",
    "with open('project_submissions.csv', 'rb') as f:\n",
    "    reader = unicodecsv.DictReader(f)\n",
    "    project_submissions = list(reader)\n",
    "    print project_submissions[0]"
   ]
  },
  {
   "cell_type": "markdown",
   "metadata": {},
   "source": [
    "## Fixing Data Types"
   ]
  },
  {
   "cell_type": "code",
   "execution_count": 24,
   "metadata": {
    "collapsed": false
   },
   "outputs": [
    {
     "data": {
      "text/plain": [
       "{u'account_key': u'448',\n",
       " u'cancel_date': datetime.datetime(2015, 1, 14, 0, 0),\n",
       " u'days_to_cancel': 65,\n",
       " u'is_canceled': True,\n",
       " u'is_udacity': True,\n",
       " u'join_date': datetime.datetime(2014, 11, 10, 0, 0),\n",
       " u'status': u'canceled'}"
      ]
     },
     "execution_count": 24,
     "metadata": {},
     "output_type": "execute_result"
    }
   ],
   "source": [
    "from datetime import datetime as dt\n",
    "\n",
    "# Takes a date as a string, and returns a Python datetime object. \n",
    "# If there is no date given, returns None\n",
    "def parse_date(date):\n",
    "    if date == '':\n",
    "        return None\n",
    "    else:\n",
    "        return dt.strptime(date, '%Y-%m-%d')\n",
    "    \n",
    "# Takes a string which is either an empty string or represents an integer,\n",
    "# and returns an int or None.\n",
    "def parse_maybe_int(i):\n",
    "    if i == '':\n",
    "        return None\n",
    "    else:\n",
    "        return int(i)\n",
    "\n",
    "# Clean up the data types in the enrollments table\n",
    "for enrollment in enrollments:\n",
    "    enrollment['cancel_date'] = parse_date(enrollment['cancel_date'])\n",
    "    enrollment['days_to_cancel'] = parse_maybe_int(enrollment['days_to_cancel'])\n",
    "    enrollment['is_canceled'] = enrollment['is_canceled'] == 'True'\n",
    "    enrollment['is_udacity'] = enrollment['is_udacity'] == 'True'\n",
    "    enrollment['join_date'] = parse_date(enrollment['join_date'])\n",
    "    \n",
    "enrollments[0]"
   ]
  },
  {
   "cell_type": "code",
   "execution_count": 25,
   "metadata": {
    "collapsed": false
   },
   "outputs": [
    {
     "data": {
      "text/plain": [
       "{'account_key': u'0',\n",
       " u'lessons_completed': 0,\n",
       " u'num_courses_visited': 1,\n",
       " u'projects_completed': 0,\n",
       " u'total_minutes_visited': 11.6793745,\n",
       " u'utc_date': datetime.datetime(2015, 1, 9, 0, 0)}"
      ]
     },
     "execution_count": 25,
     "metadata": {},
     "output_type": "execute_result"
    }
   ],
   "source": [
    "# Clean up the data types in the engagement table\n",
    "for engagement_record in daily_engagement:\n",
    "    engagement_record['lessons_completed'] = int(float(engagement_record['lessons_completed']))\n",
    "    engagement_record['num_courses_visited'] = int(float(engagement_record['num_courses_visited']))\n",
    "    engagement_record['projects_completed'] = int(float(engagement_record['projects_completed']))\n",
    "    engagement_record['total_minutes_visited'] = float(engagement_record['total_minutes_visited'])\n",
    "    engagement_record['utc_date'] = parse_date(engagement_record['utc_date'])\n",
    "    \n",
    "daily_engagement[0]"
   ]
  },
  {
   "cell_type": "code",
   "execution_count": 26,
   "metadata": {
    "collapsed": false
   },
   "outputs": [
    {
     "data": {
      "text/plain": [
       "{u'account_key': u'256',\n",
       " u'assigned_rating': u'UNGRADED',\n",
       " u'completion_date': datetime.datetime(2015, 1, 16, 0, 0),\n",
       " u'creation_date': datetime.datetime(2015, 1, 14, 0, 0),\n",
       " u'lesson_key': u'3176718735',\n",
       " u'processing_state': u'EVALUATED'}"
      ]
     },
     "execution_count": 26,
     "metadata": {},
     "output_type": "execute_result"
    }
   ],
   "source": [
    "# Clean up the data types in the submissions table\n",
    "for submission in project_submissions:\n",
    "    submission['completion_date'] = parse_date(submission['completion_date'])\n",
    "    submission['creation_date'] = parse_date(submission['creation_date'])\n",
    "\n",
    "project_submissions[0]"
   ]
  },
  {
   "cell_type": "markdown",
   "metadata": {},
   "source": [
    "Note when running the above cells that we are actively changing the contents of our data variables. If you try to run these cells multiple times in the same session, an error will occur.\n",
    "\n",
    "## Investigating the Data"
   ]
  },
  {
   "cell_type": "code",
   "execution_count": 27,
   "metadata": {
    "collapsed": false
   },
   "outputs": [
    {
     "name": "stdout",
     "output_type": "stream",
     "text": [
      "Number of rows: 1640\n",
      "Unique account keys: 1302\n",
      "Number of rows: 136240\n",
      "Unique account keys: 1237\n",
      "Number of rows: 3642\n",
      "Unique account keys: 743\n"
     ]
    },
    {
     "data": {
      "text/plain": [
       "(3642, 743)"
      ]
     },
     "execution_count": 27,
     "metadata": {},
     "output_type": "execute_result"
    }
   ],
   "source": [
    "#####################################\n",
    "#                 2                 #\n",
    "#####################################\n",
    "\n",
    "## Find the total number of rows and the number of unique students (account keys)\n",
    "## in each table.\n",
    "def rows_vs_accounts(data, field):\n",
    "    r = len(data)\n",
    "    print(\"Number of rows: %s\" % r)\n",
    "    \n",
    "    account_keys = set()\n",
    "    for row in data:\n",
    "        account_keys.add(row.get(field, None))\n",
    "    u = len(account_keys)\n",
    "    print(\"Unique account keys: %s\" % u)\n",
    "    return (r, u)\n",
    "    \n",
    "rows_vs_accounts(enrollments, 'account_key')\n",
    "rows_vs_accounts(daily_engagement, 'account_key')\n",
    "rows_vs_accounts(project_submissions, 'account_key')"
   ]
  },
  {
   "cell_type": "markdown",
   "metadata": {},
   "source": [
    "## Problems in the Data"
   ]
  },
  {
   "cell_type": "code",
   "execution_count": null,
   "metadata": {
    "collapsed": true
   },
   "outputs": [],
   "source": [
    "#####################################\n",
    "#                 3                 #\n",
    "#####################################\n",
    "\n",
    "## Rename the \"acct\" column in the daily_engagement table to \"account_key\"."
   ]
  },
  {
   "cell_type": "markdown",
   "metadata": {},
   "source": [
    "## Missing Engagement Records"
   ]
  },
  {
   "cell_type": "code",
   "execution_count": 33,
   "metadata": {
    "collapsed": false
   },
   "outputs": [
    {
     "name": "stdout",
     "output_type": "stream",
     "text": [
      "{u'status': u'canceled', u'is_udacity': True, u'is_canceled': True, u'join_date': datetime.datetime(2015, 1, 10, 0, 0), u'account_key': u'1304', u'cancel_date': datetime.datetime(2015, 3, 10, 0, 0), u'days_to_cancel': 59}\n",
      "{u'status': u'canceled', u'is_udacity': True, u'is_canceled': True, u'join_date': datetime.datetime(2015, 3, 10, 0, 0), u'account_key': u'1304', u'cancel_date': datetime.datetime(2015, 6, 17, 0, 0), u'days_to_cancel': 99}\n",
      "{u'status': u'current', u'is_udacity': True, u'is_canceled': False, u'join_date': datetime.datetime(2015, 2, 25, 0, 0), u'account_key': u'1101', u'cancel_date': None, u'days_to_cancel': None}\n",
      "3\n"
     ]
    }
   ],
   "source": [
    "#####################################\n",
    "#                 4                 #\n",
    "#####################################\n",
    "\n",
    "## Find any one student enrollments where the student is missing from the daily engagement table.\n",
    "## Output that enrollment.\n",
    "counter = 0\n",
    "for e in enrollments:\n",
    "    ac = e['account_key']\n",
    "    engaged = False\n",
    "    for de in daily_engagement:\n",
    "        if de['account_key'] == ac:\n",
    "            engaged = True\n",
    "            break\n",
    "    if not engaged and (e['days_to_cancel'] > 0 or e['days_to_cancel'] is None ):\n",
    "        print e\n",
    "        counter += 1\n",
    "\n",
    "print counter"
   ]
  },
  {
   "cell_type": "markdown",
   "metadata": {},
   "source": [
    "## Checking for More Problem Records"
   ]
  },
  {
   "cell_type": "code",
   "execution_count": null,
   "metadata": {
    "collapsed": true
   },
   "outputs": [],
   "source": [
    "#####################################\n",
    "#                 5                 #\n",
    "#####################################\n",
    "\n",
    "## Find the number of surprising data points (enrollments missing from\n",
    "## the engagement table) that remain, if any."
   ]
  },
  {
   "cell_type": "markdown",
   "metadata": {},
   "source": [
    "## Tracking Down the Remaining Problems"
   ]
  },
  {
   "cell_type": "code",
   "execution_count": 34,
   "metadata": {
    "collapsed": false
   },
   "outputs": [
    {
     "data": {
      "text/plain": [
       "6"
      ]
     },
     "execution_count": 34,
     "metadata": {},
     "output_type": "execute_result"
    }
   ],
   "source": [
    "# Create a set of the account keys for all Udacity test accounts\n",
    "udacity_test_accounts = set()\n",
    "for enrollment in enrollments:\n",
    "    if enrollment['is_udacity']:\n",
    "        udacity_test_accounts.add(enrollment['account_key'])\n",
    "len(udacity_test_accounts)"
   ]
  },
  {
   "cell_type": "code",
   "execution_count": 35,
   "metadata": {
    "collapsed": true
   },
   "outputs": [],
   "source": [
    "# Given some data with an account_key field, removes any records corresponding to Udacity test accounts\n",
    "def remove_udacity_accounts(data):\n",
    "    non_udacity_data = []\n",
    "    for data_point in data:\n",
    "        if data_point['account_key'] not in udacity_test_accounts:\n",
    "            non_udacity_data.append(data_point)\n",
    "    return non_udacity_data"
   ]
  },
  {
   "cell_type": "code",
   "execution_count": 36,
   "metadata": {
    "collapsed": false
   },
   "outputs": [
    {
     "name": "stdout",
     "output_type": "stream",
     "text": [
      "1622\n",
      "135656\n",
      "3634\n"
     ]
    }
   ],
   "source": [
    "# Remove Udacity test accounts from all three tables\n",
    "non_udacity_enrollments = remove_udacity_accounts(enrollments)\n",
    "non_udacity_engagement = remove_udacity_accounts(daily_engagement)\n",
    "non_udacity_submissions = remove_udacity_accounts(project_submissions)\n",
    "\n",
    "print len(non_udacity_enrollments)\n",
    "print len(non_udacity_engagement)\n",
    "print len(non_udacity_submissions)"
   ]
  },
  {
   "cell_type": "markdown",
   "metadata": {},
   "source": [
    "## Refining the Question"
   ]
  },
  {
   "cell_type": "code",
   "execution_count": 40,
   "metadata": {
    "collapsed": false
   },
   "outputs": [
    {
     "data": {
      "text/plain": [
       "995"
      ]
     },
     "execution_count": 40,
     "metadata": {},
     "output_type": "execute_result"
    }
   ],
   "source": [
    "#####################################\n",
    "#                 6                 #\n",
    "#####################################\n",
    "\n",
    "## Create a dictionary named paid_students containing all students who either\n",
    "## haven't canceled yet or who remained enrolled for more than 7 days. The keys\n",
    "## should be account keys, and the values should be the date the student enrolled.\n",
    "    \n",
    "paid_students = {}\n",
    "for e in non_udacity_enrollments:\n",
    "    if e['days_to_cancel'] > 7 or e['days_to_cancel'] is None:\n",
    "        if e['account_key'] not in paid_students or paid_students[e['account_key']] < e['join_date']:\n",
    "            paid_students[e['account_key']] = e['join_date']\n",
    "\n",
    "len(paid_students)"
   ]
  },
  {
   "cell_type": "markdown",
   "metadata": {},
   "source": [
    "## Getting Data from First Week"
   ]
  },
  {
   "cell_type": "code",
   "execution_count": 87,
   "metadata": {
    "collapsed": true
   },
   "outputs": [],
   "source": [
    "# Takes a student's join date and the date of a specific engagement record,\n",
    "# and returns True if that engagement record happened within one week\n",
    "# of the student joining.\n",
    "def within_one_week(join_date, engagement_date):\n",
    "    time_delta = engagement_date - join_date\n",
    "    return time_delta.days < 7 and time_delta.days >= 0"
   ]
  },
  {
   "cell_type": "code",
   "execution_count": 88,
   "metadata": {
    "collapsed": false
   },
   "outputs": [
    {
     "data": {
      "text/plain": [
       "6919"
      ]
     },
     "execution_count": 88,
     "metadata": {},
     "output_type": "execute_result"
    }
   ],
   "source": [
    "#####################################\n",
    "#                 7                 #\n",
    "#####################################\n",
    "\n",
    "## Create a list of rows from the engagement table including only rows where\n",
    "## the student is one of the paid students you just found, and the date is within\n",
    "## one week of the student's join date.\n",
    "\n",
    "paid_engagement_in_first_week = []\n",
    "for engagement in non_udacity_engagement:\n",
    "    if engagement['account_key'] in paid_students \\\n",
    "    and within_one_week(paid_students[engagement['account_key']], engagement['utc_date']):\n",
    "        paid_engagement_in_first_week.append(engagement)\n",
    "\n",
    "len(paid_engagement_in_first_week)"
   ]
  },
  {
   "cell_type": "markdown",
   "metadata": {},
   "source": [
    "## Exploring Student Engagement"
   ]
  },
  {
   "cell_type": "code",
   "execution_count": 89,
   "metadata": {
    "collapsed": true
   },
   "outputs": [],
   "source": [
    "from collections import defaultdict\n",
    "\n",
    "# Create a dictionary of engagement grouped by student.\n",
    "# The keys are account keys, and the values are lists of engagement records.\n",
    "engagement_by_account = defaultdict(list)\n",
    "for engagement_record in paid_engagement_in_first_week:\n",
    "    account_key = engagement_record['account_key']\n",
    "    engagement_by_account[account_key].append(engagement_record)"
   ]
  },
  {
   "cell_type": "code",
   "execution_count": 90,
   "metadata": {
    "collapsed": true
   },
   "outputs": [],
   "source": [
    "# Create a dictionary with the total minutes each student spent in the classroom during the first week.\n",
    "# The keys are account keys, and the values are numbers (total minutes)\n",
    "total_minutes_by_account = {}\n",
    "for account_key, engagement_for_student in engagement_by_account.items():\n",
    "    total_minutes = 0\n",
    "    for engagement_record in engagement_for_student:\n",
    "        total_minutes += engagement_record['total_minutes_visited']\n",
    "    total_minutes_by_account[account_key] = total_minutes\n",
    "    "
   ]
  },
  {
   "cell_type": "code",
   "execution_count": 91,
   "metadata": {
    "collapsed": false,
    "scrolled": true
   },
   "outputs": [
    {
     "name": "stdout",
     "output_type": "stream",
     "text": [
      "Mean: 306.708326753\n",
      "Standard deviation: 412.996933409\n",
      "Minimum: 0.0\n",
      "Maximum: 3564.7332645\n"
     ]
    }
   ],
   "source": [
    "import numpy as np\n",
    "\n",
    "# Summarize the data about minutes spent in the classroom\n",
    "total_minutes = total_minutes_by_account.values()\n",
    "print 'Mean:', np.mean(total_minutes)\n",
    "print 'Standard deviation:', np.std(total_minutes)\n",
    "print 'Minimum:', np.min(total_minutes)\n",
    "print 'Maximum:', np.max(total_minutes)"
   ]
  },
  {
   "cell_type": "markdown",
   "metadata": {},
   "source": [
    "## Debugging Data Analysis Code"
   ]
  },
  {
   "cell_type": "code",
   "execution_count": 93,
   "metadata": {
    "collapsed": false
   },
   "outputs": [
    {
     "name": "stdout",
     "output_type": "stream",
     "text": [
      "AK: 669 = 0.0 minutes\n",
      "AK: 342 = 0.0 minutes\n",
      "AK: 348 = 0.0 minutes\n",
      "AK: 816 = 0.0 minutes\n",
      "AK: 718 = 0.0 minutes\n",
      "AK: 426 = 0.0 minutes\n",
      "AK: 1066 = 0.0 minutes\n",
      "AK: 299 = 0.0 minutes\n",
      "AK: 291 = 0.0 minutes\n",
      "AK: 591 = 0.0 minutes\n",
      "AK: 590 = 0.0 minutes\n",
      "AK: 593 = 0.0 minutes\n",
      "AK: 594 = 0.0 minutes\n",
      "AK: 278 = 0.0 minutes\n",
      "AK: 524 = 0.0 minutes\n",
      "AK: 525 = 0.0 minutes\n",
      "AK: 529 = 0.0 minutes\n",
      "AK: 444 = 0.0 minutes\n",
      "AK: 38 = 0.0 minutes\n",
      "AK: 31 = 0.0 minutes\n",
      "AK: 640 = 0.0 minutes\n",
      "AK: 339 = 0.0 minutes\n",
      "AK: 334 = 0.0 minutes\n",
      "AK: 337 = 0.0 minutes\n",
      "AK: 823 = 0.0 minutes\n",
      "AK: 856 = 0.0 minutes\n",
      "AK: 857 = 0.0 minutes\n",
      "AK: 94 = 0.0 minutes\n",
      "AK: 743 = 0.0 minutes\n",
      "AK: 558 = 0.0 minutes\n",
      "AK: 747 = 0.0 minutes\n",
      "AK: 551 = 0.0 minutes\n",
      "AK: 235 = 0.0 minutes\n",
      "AK: 1054 = 0.0 minutes\n",
      "AK: 1058 = 0.0 minutes\n",
      "AK: 155 = 0.0 minutes\n",
      "AK: 159 = 0.0 minutes\n",
      "AK: 1170 = 0.0 minutes\n",
      "AK: 148 = 0.0 minutes\n",
      "AK: 1287 = 0.0 minutes\n",
      "AK: 940 = 0.0 minutes\n",
      "AK: 689 = 0.0 minutes\n",
      "AK: 458 = 0.0 minutes\n",
      "AK: 1302 = 0.0 minutes\n",
      "AK: 131 = 0.0 minutes\n",
      "AK: 130 = 0.0 minutes\n",
      "AK: 492 = 0.0 minutes\n",
      "AK: 25 = 0.0 minutes\n",
      "AK: 402 = 0.0 minutes\n",
      "AK: 401 = 0.0 minutes\n",
      "AK: 932 = 0.0 minutes\n",
      "AK: 931 = 0.0 minutes\n",
      "AK: 378 = 0.0 minutes\n",
      "AK: 370 = 0.0 minutes\n",
      "AK: 1278 = 0.0 minutes\n",
      "AK: 147 = 0.0 minutes\n",
      "AK: 704 = 0.0 minutes\n",
      "AK: 705 = 0.0 minutes\n",
      "AK: 702 = 0.0 minutes\n",
      "AK: 88 = 0.0 minutes\n",
      "AK: 396 = 0.0 minutes\n",
      "AK: 86 = 0.0 minutes\n",
      "AK: 797 = 0.0 minutes\n",
      "AK: 796 = 0.0 minutes\n",
      "AK: 793 = 0.0 minutes\n",
      "AK: 584 = 0.0 minutes\n",
      "AK: 1136 = 0.0 minutes\n",
      "AK: 1009 = 0.0 minutes\n",
      "AK: 1007 = 0.0 minutes\n",
      "AK: 625 = 0.0 minutes\n",
      "AK: 1228 = 0.0 minutes\n",
      "AK: 657 = 0.0 minutes\n",
      "AK: 656 = 0.0 minutes\n",
      "AK: 185 = 0.0 minutes\n",
      "AK: 1124 = 0.0 minutes\n",
      "AK: 1088 = 0.0 minutes\n",
      "AK: 1227 = 0.0 minutes\n",
      "AK: 11 = 0.0 minutes\n",
      "AK: 19 = 0.0 minutes\n",
      "AK: 867 = 0.0 minutes\n",
      "AK: 866 = 0.0 minutes\n",
      "AK: 1226 = 0.0 minutes\n",
      "AK: 882 = 0.0 minutes\n",
      "AK: 45 = 0.0 minutes\n",
      "AK: 322 = 0.0 minutes\n",
      "AK: 321 = 0.0 minutes\n",
      "AK: 201 = 0.0 minutes\n",
      "AK: 73 = 0.0 minutes\n",
      "AK: 78 = 0.0 minutes\n",
      "AK: 1048 = 0.0 minutes\n",
      "AK: 1142 = 0.0 minutes\n",
      "AK: 1144 = 0.0 minutes\n",
      "AK: 1262 = 0.0 minutes\n",
      "AK: 665 = 0.0 minutes\n",
      "AK: 1260 = 0.0 minutes\n",
      "AK: 1267 = 0.0 minutes\n",
      "AK: 1266 = 0.0 minutes\n",
      "AK: 1265 = 0.0 minutes\n",
      "AK: 693 = 0.0 minutes\n",
      "AK: 690 = 0.0 minutes\n",
      "AK: 1303 = 0.0 minutes\n",
      "AK: 547 = 0.0 minutes\n",
      "AK: 123 = 0.0 minutes\n",
      "AK: 2 = 0.0 minutes\n",
      "AK: 1022 = 0.0 minutes\n",
      "AK: 415 = 0.0 minutes\n",
      "AK: 411 = 0.0 minutes\n",
      "AK: 923 = 0.0 minutes\n",
      "AK: 1236 = 0.0 minutes\n",
      "AK: 832 = 0.0 minutes\n",
      "AK: 835 = 0.0 minutes\n",
      "AK: 3 = 0.0 minutes\n",
      "AK: 364 = 0.0 minutes\n",
      "AK: 363 = 0.0 minutes\n",
      "AK: 381 = 0.0 minutes\n",
      "AK: 386 = 0.0 minutes\n",
      "AK: 387 = 0.0 minutes\n",
      "AK: 787 = 0.0 minutes\n",
      "AK: 780 = 0.0 minutes\n",
      "AK: 781 = 0.0 minutes\n",
      "AK: 571 = 0.0 minutes\n",
      "AK: 574 = 0.0 minutes\n",
      "AK: 60 = 0.0 minutes\n",
      "AK: 68 = 0.0 minutes\n",
      "AK: 253 = 0.0 minutes\n",
      "AK: 256 = 0.0 minutes\n",
      "AK: 939 = 0.0 minutes\n",
      "AK: 1038 = 0.0 minutes\n",
      "AK: 735 = 0.0 minutes\n",
      "AK: 1212 = 0.0 minutes\n",
      "AK: 900 = 0.0 minutes\n",
      "AK: 166 = 0.0 minutes\n",
      "AK: 167 = 0.0 minutes\n",
      "AK: 1102 = 0.0 minutes\n",
      "AK: 1103 = 0.0 minutes\n",
      "AK: 1242 = 0.0 minutes\n",
      "AK: 893 = 0.0 minutes\n",
      "AK: 896 = 0.0 minutes\n",
      "AK: 1277 = 0.0 minutes\n",
      "AK: 801 = 0.0 minutes\n",
      "AK: 217 = 0.0 minutes\n",
      "AK: 1259 = 0.0 minutes\n",
      "AK: 1074 = 0.0 minutes\n",
      "AK: 1072 = 0.0 minutes\n",
      "AK: 1071 = 0.0 minutes\n",
      "AK: 281 = 0.0 minutes\n",
      "AK: 1090 = 0.0 minutes\n",
      "AK: 1154 = 0.0 minutes\n",
      "AK: 1157 = 0.0 minutes\n",
      "AK: 261 = 0.0 minutes\n",
      "AK: 1178 = 0.0 minutes\n",
      "AK: 51 = 0.0 minutes\n",
      "AK: 536 = 0.0 minutes\n",
      "AK: 1081 = 0.0 minutes\n",
      "AK: 989 = 0.0 minutes\n",
      "AK: 983 = 0.0 minutes\n",
      "AK: 776 = 0.0 minutes\n",
      "AK: 69 = 0.0 minutes\n",
      "AK: 773 = 0.0 minutes\n",
      "AK: 429 = 0.0 minutes\n",
      "AK: 1253 = 0.0 minutes\n",
      "AK: 424 = 0.0 minutes\n",
      "AK: 912 = 0.0 minutes\n",
      "AK: 306 = 0.0 minutes\n",
      "AK: 840 = 0.0 minutes\n",
      "AK: 240 = 0.0 minutes\n",
      "AK: 391 = 0.0 minutes\n",
      "AK: 756 = 0.0 minutes\n",
      "AK: 759 = 0.0 minutes\n",
      "AK: 1036 = 0.0 minutes\n",
      "AK: 729 = 0.0 minutes\n",
      "AK: 601 = 0.0 minutes\n",
      "AK: 1205 = 0.0 minutes\n",
      "AK: 158 = 0.0 minutes\n",
      "AK: 1211 = 0.0 minutes\n",
      "AK: 958 = 0.0 minutes\n",
      "AK: 49 = 0.0 minutes\n",
      "AK: 44 = 0.0 minutes\n",
      "AK: 1111 = 0.0 minutes\n",
      "AK: 1299 = 0.0 minutes\n",
      "AK: 1115 = 0.0 minutes\n",
      "AK: 1117 = 0.0 minutes\n",
      "AK: 480 = 0.0 minutes\n",
      "AK: 473 = 0.0 minutes\n",
      "[{u'status': u'canceled', u'is_udacity': False, u'is_canceled': True, u'join_date': datetime.datetime(2015, 1, 7, 0, 0), u'account_key': u'108', u'cancel_date': datetime.datetime(2015, 4, 20, 0, 0), u'days_to_cancel': 103}, {u'status': u'canceled', u'is_udacity': False, u'is_canceled': True, u'join_date': datetime.datetime(2015, 4, 20, 0, 0), u'account_key': u'108', u'cancel_date': datetime.datetime(2015, 5, 14, 0, 0), u'days_to_cancel': 24}]\n"
     ]
    }
   ],
   "source": [
    "#####################################\n",
    "#                 8                 #\n",
    "#####################################\n",
    "\n",
    "## Go through a similar process as before to see if there is a problem.\n",
    "## Locate at least one surprising piece of data, output it, and take a look at it.\n",
    "for ak, minutes in total_minutes_by_account.items():\n",
    "    if minutes > 7 * 24 * 60 or minutes < 1:\n",
    "        print \"AK: %s = %s minutes\" % (ak, minutes)\n",
    "        \n",
    "# print paid_students['108']\n",
    "\n",
    "print filter(lambda x: x['account_key'] == '108', enrollments)"
   ]
  },
  {
   "cell_type": "markdown",
   "metadata": {},
   "source": [
    "## Lessons Completed in First Week"
   ]
  },
  {
   "cell_type": "code",
   "execution_count": 100,
   "metadata": {
    "collapsed": false
   },
   "outputs": [
    {
     "name": "stdout",
     "output_type": "stream",
     "text": [
      "Mean: 1.63618090452\n",
      "Standard deviation: 3.00256129983\n",
      "Minimum: 0\n",
      "Maximum: 36\n"
     ]
    }
   ],
   "source": [
    "#####################################\n",
    "#                 9                 #\n",
    "#####################################\n",
    "\n",
    "## Adapt the code above to find the mean, standard deviation, minimum, and maximum for\n",
    "## the number of lessons completed by each student during the first week. Try creating\n",
    "## one or more functions to re-use the code above.\n",
    "total_lessons_by_account = {}\n",
    "\n",
    "def totals_by_field(field = None):\n",
    "    result = {}\n",
    "    for account_key, engagement_for_student in engagement_by_account.items():\n",
    "        total = 0\n",
    "        \n",
    "        for engagement_record in engagement_for_student:\n",
    "            if field:\n",
    "                total += engagement_record[field]\n",
    "            else:\n",
    "                if engagement_record['total_minutes_visited'] > 0:\n",
    "                    total += 1\n",
    "        result[account_key] = total\n",
    "    return result\n",
    "\n",
    "def print_summary(data):    \n",
    "    totals = data.values()\n",
    "    print 'Mean:', np.mean(totals)\n",
    "    print 'Standard deviation:', np.std(totals)\n",
    "    print 'Minimum:', np.min(totals)\n",
    "    print 'Maximum:', np.max(totals)\n",
    "\n",
    "total_lessons_by_account = totals_by_field('lessons_completed')\n",
    "print_summary(total_lessons_by_account)\n"
   ]
  },
  {
   "cell_type": "markdown",
   "metadata": {},
   "source": [
    "## Number of Visits in First Week"
   ]
  },
  {
   "cell_type": "code",
   "execution_count": 101,
   "metadata": {
    "collapsed": false
   },
   "outputs": [
    {
     "name": "stdout",
     "output_type": "stream",
     "text": [
      "Mean: 2.86733668342\n",
      "Standard deviation: 2.25519800292\n",
      "Minimum: 0\n",
      "Maximum: 7\n"
     ]
    }
   ],
   "source": [
    "######################################\n",
    "#                 10                 #\n",
    "######################################\n",
    "\n",
    "## Find the mean, standard deviation, minimum, and maximum for the number of\n",
    "## days each student visits the classroom during the first week.\n",
    "total_days_by_account = total_engagement()\n",
    "print_summary(total_days_by_account)"
   ]
  },
  {
   "cell_type": "markdown",
   "metadata": {},
   "source": [
    "## Splitting out Passing Students"
   ]
  },
  {
   "cell_type": "code",
   "execution_count": 116,
   "metadata": {
    "collapsed": false
   },
   "outputs": [
    {
     "name": "stdout",
     "output_type": "stream",
     "text": [
      "995\n",
      "4527\n",
      "2392\n"
     ]
    }
   ],
   "source": [
    "######################################\n",
    "#                 11                 #\n",
    "######################################\n",
    "\n",
    "## Create two lists of engagement data for paid students in the first week.\n",
    "## The first list should contain data for students who eventually pass the\n",
    "## subway project, and the second list should contain data for students\n",
    "## who do not.\n",
    "\n",
    "subway_project_lesson_keys = ['746169184', '3176718735']\n",
    "passing_engagement = []\n",
    "non_passing_engagement = []\n",
    "\n",
    "passing_accounts = set()\n",
    "for submission in non_udacity_submissions:\n",
    "    if submission['lesson_key'] in subway_project_lesson_keys \\\n",
    "    and submission['account_key'] in engagement_by_account.keys() \\\n",
    "    and submission['assigned_rating'] in ['PASSED', 'DISTINCTION']:\n",
    "        passing_accounts.add(submission['account_key'])\n",
    "\n",
    "for engagement in paid_engagement_in_first_week:\n",
    "    if engagement['account_key'] in passing_accounts:\n",
    "        passing_engagement.append(engagement)\n",
    "    else:\n",
    "        non_passing_engagement.append(engagement)\n",
    "\n",
    "print len(passing_engagement)\n",
    "print len(non_passing_engagement)\n"
   ]
  },
  {
   "cell_type": "markdown",
   "metadata": {},
   "source": [
    "## Comparing the Two Student Groups"
   ]
  },
  {
   "cell_type": "code",
   "execution_count": 135,
   "metadata": {
    "collapsed": false
   },
   "outputs": [],
   "source": [
    "######################################\n",
    "#                 12                 #\n",
    "######################################\n",
    "\n",
    "## Compute some metrics you're interested in and see how they differ for\n",
    "## students who pass the subway project vs. students who don't. A good\n",
    "## starting point would be the metrics we looked at earlier (minutes spent\n",
    "## in the classroom, lessons completed, and days visited).\n",
    "\n",
    "def group_by_account(data):\n",
    "    result = defaultdict(list)\n",
    "    for item in data:\n",
    "        result[item['account_key']].append(item)\n",
    "    \n",
    "    return result\n",
    "        \n",
    "def sum_up_by_field(data, field=None):\n",
    "    result = {}\n",
    "    for account_key, item in data.items():\n",
    "        total = 0\n",
    "        for i in item:\n",
    "            if field:\n",
    "                total += i[field]\n",
    "            else:\n",
    "                if 'total_minutes_visited' in i and i['total_minutes_visited'] > 0:\n",
    "                    total += 1\n",
    "        result[account_key] = total\n",
    "    \n",
    "    return result\n",
    "\n",
    "passing_engagement_by_account = group_by_account(passing_engagement)\n",
    "non_passing_engagement_by_account = group_by_account(non_passing_engagement)\n"
   ]
  },
  {
   "cell_type": "code",
   "execution_count": 136,
   "metadata": {
    "collapsed": false
   },
   "outputs": [
    {
     "name": "stdout",
     "output_type": "stream",
     "text": [
      "\n",
      "Passing students (minutes):\n",
      "Mean: 394.586046484\n",
      "Standard deviation: 448.499519327\n",
      "Minimum: 0.0\n",
      "Maximum: 3564.7332645\n",
      "\n",
      "Non-Passing students (minutes):\n",
      "Mean: 143.326474267\n",
      "Standard deviation: 269.538619011\n",
      "Minimum: 0.0\n",
      "Maximum: 1768.52274933\n",
      "\n",
      "Passing students (lessons):\n",
      "Mean: 2.05255023184\n",
      "Standard deviation: 3.14222705558\n",
      "Minimum: 0\n",
      "Maximum: 36\n",
      "\n",
      "Non-Passing students (lessons):\n",
      "Mean: 0.862068965517\n",
      "Standard deviation: 2.54915994183\n",
      "Minimum: 0\n",
      "Maximum: 27\n",
      "\n",
      "Passing students (days):\n",
      "Mean: 3.38485316847\n",
      "Standard deviation: 2.25882147092\n",
      "Minimum: 0\n",
      "Maximum: 7\n",
      "\n",
      "Non-Passing students (days):\n",
      "Mean: 1.90517241379\n",
      "Standard deviation: 1.90573144136\n",
      "Minimum: 0\n",
      "Maximum: 7\n"
     ]
    }
   ],
   "source": [
    "passing_engagement_minutes_visited = sum_up_by_field(passing_engagement_by_account, 'total_minutes_visited')\n",
    "non_passing_engagement_minutes_visited = sum_up_by_field(non_passing_engagement_by_account, 'total_minutes_visited')\n",
    "\n",
    "print(\"\\nPassing students (minutes):\")\n",
    "print_summary(passing_engagement_minutes_visited)\n",
    "print(\"\\nNon-Passing students (minutes):\")\n",
    "print_summary(non_passing_engagement_minutes_visited)\n",
    "\n",
    "passing_engagement_lessons_completed = sum_up_by_field(passing_engagement_by_account, 'lessons_completed')\n",
    "non_passing_engagement_lessons_completed = sum_up_by_field(non_passing_engagement_by_account, 'lessons_completed')\n",
    "\n",
    "print(\"\\nPassing students (lessons):\")\n",
    "print_summary(passing_engagement_lessons_completed)\n",
    "print(\"\\nNon-Passing students (lessons):\")\n",
    "print_summary(non_passing_engagement_lessons_completed)\n",
    "\n",
    "passing_engagement_days = sum_up_by_field(passing_engagement_by_account)\n",
    "non_passing_engagement_days = sum_up_by_field(non_passing_engagement_by_account)\n",
    "\n",
    "print(\"\\nPassing students (days):\")\n",
    "print_summary(passing_engagement_days)\n",
    "print(\"\\nNon-Passing students (days):\")\n",
    "print_summary(non_passing_engagement_days)"
   ]
  },
  {
   "cell_type": "markdown",
   "metadata": {},
   "source": [
    "## Making Histograms"
   ]
  },
  {
   "cell_type": "code",
   "execution_count": 153,
   "metadata": {
    "collapsed": false
   },
   "outputs": [
    {
     "name": "stdout",
     "output_type": "stream",
     "text": [
      "\n",
      "Passing students (minutes):\n",
      "\n",
      "Non-Passing students (minutes):\n"
     ]
    },
    {
     "data": {
      "text/plain": [
       "<matplotlib.legend.Legend at 0x11c1a9d10>"
      ]
     },
     "execution_count": 153,
     "metadata": {},
     "output_type": "execute_result"
    },
    {
     "data": {
      "image/png": "[encoded data removed]",
      "text/plain": [
       "<matplotlib.figure.Figure at 0x11c446890>"
      ]
     },
     "metadata": {},
     "output_type": "display_data"
    }
   ],
   "source": [
    "######################################\n",
    "#                 13                 #\n",
    "######################################\n",
    "\n",
    "## Make histograms of the three metrics we looked at earlier for both\n",
    "## students who passed the subway project and students who didn't. You\n",
    "## might also want to make histograms of any other metrics you examined.\n",
    "\n",
    "%matplotlib inline\n",
    "import matplotlib.pyplot as plt\n",
    "import seaborn as sns\n",
    "\n",
    "print(\"\\nPassing students (minutes):\")\n",
    "plt.hist(passing_engagement_minutes_visited.values())\n",
    "\n",
    "print(\"\\nNon-Passing students (minutes):\")\n",
    "plt.hist(non_passing_engagement_minutes_visited.values())\n",
    "\n",
    "plt.xlabel(\"Minutes\")\n",
    "plt.ylabel(\"Students\")\n",
    "plt.legend([\"Passing\", \"Non-Passing\"])\n",
    "\n"
   ]
  },
  {
   "cell_type": "code",
   "execution_count": 154,
   "metadata": {
    "collapsed": false,
    "scrolled": false
   },
   "outputs": [
    {
     "name": "stdout",
     "output_type": "stream",
     "text": [
      "\n",
      "Passing students (lessons):\n",
      "\n",
      "Non-Passing students (lessons):\n"
     ]
    },
    {
     "data": {
      "text/plain": [
       "<matplotlib.legend.Legend at 0x115b446d0>"
      ]
     },
     "execution_count": 154,
     "metadata": {},
     "output_type": "execute_result"
    },
    {
     "data": {
      "image/png": "[encoded data removed]",
      "text/plain": [
       "<matplotlib.figure.Figure at 0x11bad9390>"
      ]
     },
     "metadata": {},
     "output_type": "display_data"
    }
   ],
   "source": [
    "print(\"\\nPassing students (lessons):\")\n",
    "plt.hist(passing_engagement_lessons_completed.values())\n",
    "print(\"\\nNon-Passing students (lessons):\")\n",
    "plt.hist(non_passing_engagement_lessons_completed.values())\n",
    "\n",
    "plt.xlabel(\"Lessons\")\n",
    "plt.ylabel(\"Students\")\n",
    "plt.legend([\"Passing\", \"Non-Passing\"])"
   ]
  },
  {
   "cell_type": "code",
   "execution_count": 156,
   "metadata": {
    "collapsed": false
   },
   "outputs": [
    {
     "name": "stdout",
     "output_type": "stream",
     "text": [
      "\n",
      "Passing students (days):\n",
      "\n",
      "Non-Passing students (days):\n"
     ]
    },
    {
     "data": {
      "text/plain": [
       "<matplotlib.legend.Legend at 0x11cd6a8d0>"
      ]
     },
     "execution_count": 156,
     "metadata": {},
     "output_type": "execute_result"
    },
    {
     "data": {
      "image/png": "[encoded data removed]",
      "text/plain": [
       "<matplotlib.figure.Figure at 0x11ca92390>"
      ]
     },
     "metadata": {},
     "output_type": "display_data"
    }
   ],
   "source": [
    "print(\"\\nPassing students (days):\")\n",
    "plt.hist(passing_engagement_days.values(), bins=8)\n",
    "print(\"\\nNon-Passing students (days):\")\n",
    "plt.hist(non_passing_engagement_days.values(), bins=8)\n",
    "\n",
    "plt.xlabel(\"Days\")\n",
    "plt.ylabel(\"Students\")\n",
    "plt.legend([\"Passing\", \"Non-Passing\"])"
   ]
  },
  {
   "cell_type": "markdown",
   "metadata": {},
   "source": [
    "## Improving Plots and Sharing Findings"
   ]
  },
  {
   "cell_type": "code",
   "execution_count": null,
   "metadata": {
    "collapsed": true
   },
   "outputs": [],
   "source": [
    "######################################\n",
    "#                 14                 #\n",
    "######################################\n",
    "\n",
    "## Make a more polished version of at least one of your visualizations\n",
    "## from earlier. Try importing the seaborn library to make the visualization\n",
    "## look better, adding axis labels and a title, and changing one or more\n",
    "## arguments to the hist() function."
   ]
  }
 ],
 "metadata": {
  "anaconda-cloud": {},
  "kernelspec": {
   "display_name": "Python [default]",
   "language": "python",
   "name": "python2"
  },
  "language_info": {
   "codemirror_mode": {
    "name": "ipython",
    "version": 2
   },
   "file_extension": ".py",
   "mimetype": "text/x-python",
   "name": "python",
   "nbconvert_exporter": "python",
   "pygments_lexer": "ipython2",
   "version": "2.7.12"
  }
 },
 "nbformat": 4,
 "nbformat_minor": 0
}
